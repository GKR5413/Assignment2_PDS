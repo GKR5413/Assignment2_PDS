{
 "cells": [
  {
   "cell_type": "code",
   "execution_count": 3,
   "metadata": {},
   "outputs": [],
   "source": [
    "import pandas as pd"
   ]
  },
  {
   "cell_type": "code",
   "execution_count": 4,
   "metadata": {},
   "outputs": [],
   "source": [
    "file_path = '/Users/spiderman/Documents/GitHub/Assignment2_PDS/raw_data/train.csv'\n",
    "df = pd.read_csv(file_path)"
   ]
  },
  {
   "cell_type": "code",
   "execution_count": 5,
   "metadata": {},
   "outputs": [
    {
     "name": "stdout",
     "output_type": "stream",
     "text": [
      "Missing values in each column:\n",
      " Unnamed: 0              0\n",
      "Name                    0\n",
      "Location                0\n",
      "Year                    0\n",
      "Kilometers_Driven       0\n",
      "Fuel_Type               0\n",
      "Transmission            0\n",
      "Owner_Type              0\n",
      "Mileage                 2\n",
      "Engine                 36\n",
      "Power                  36\n",
      "Seats                  38\n",
      "New_Price            5032\n",
      "Price                   0\n",
      "dtype: int64\n"
     ]
    }
   ],
   "source": [
    "print(\"Missing values in each column:\\n\", df.isnull().sum())"
   ]
  },
  {
   "cell_type": "code",
   "execution_count": 6,
   "metadata": {},
   "outputs": [],
   "source": [
    "# Remove non-numeric characters from columns with units and convert them to numeric\n",
    "df['Mileage'] = df['Mileage'].str.replace(' kmpl', '').str.replace(' km/kg', '').astype(float)\n",
    "df['Engine'] = df['Engine'].str.replace(' CC', '').str.replace(' cc', '').astype(float)\n",
    "df['Power'] = df['Power'].str.replace(' bhp', '').astype(float)"
   ]
  },
  {
   "cell_type": "code",
   "execution_count": 7,
   "metadata": {},
   "outputs": [
    {
     "name": "stderr",
     "output_type": "stream",
     "text": [
      "/var/folders/vk/8ql96cx95jn9rn3rfbthkb0c0000gn/T/ipykernel_64855/1553386043.py:1: FutureWarning: A value is trying to be set on a copy of a DataFrame or Series through chained assignment using an inplace method.\n",
      "The behavior will change in pandas 3.0. This inplace method will never work because the intermediate object on which we are setting values always behaves as a copy.\n",
      "\n",
      "For example, when doing 'df[col].method(value, inplace=True)', try using 'df.method({col: value}, inplace=True)' or df[col] = df[col].method(value) instead, to perform the operation inplace on the original object.\n",
      "\n",
      "\n",
      "  df['Mileage'].fillna(df['Mileage'].median(), inplace=True)  # Median for Mileage\n",
      "/var/folders/vk/8ql96cx95jn9rn3rfbthkb0c0000gn/T/ipykernel_64855/1553386043.py:2: FutureWarning: A value is trying to be set on a copy of a DataFrame or Series through chained assignment using an inplace method.\n",
      "The behavior will change in pandas 3.0. This inplace method will never work because the intermediate object on which we are setting values always behaves as a copy.\n",
      "\n",
      "For example, when doing 'df[col].method(value, inplace=True)', try using 'df.method({col: value}, inplace=True)' or df[col] = df[col].method(value) instead, to perform the operation inplace on the original object.\n",
      "\n",
      "\n",
      "  df['Engine'].fillna(df['Engine'].median(), inplace=True)    # Median for Engine\n",
      "/var/folders/vk/8ql96cx95jn9rn3rfbthkb0c0000gn/T/ipykernel_64855/1553386043.py:3: FutureWarning: A value is trying to be set on a copy of a DataFrame or Series through chained assignment using an inplace method.\n",
      "The behavior will change in pandas 3.0. This inplace method will never work because the intermediate object on which we are setting values always behaves as a copy.\n",
      "\n",
      "For example, when doing 'df[col].method(value, inplace=True)', try using 'df.method({col: value}, inplace=True)' or df[col] = df[col].method(value) instead, to perform the operation inplace on the original object.\n",
      "\n",
      "\n",
      "  df['Power'].fillna(df['Power'].median(), inplace=True)      # Median for Power\n",
      "/var/folders/vk/8ql96cx95jn9rn3rfbthkb0c0000gn/T/ipykernel_64855/1553386043.py:4: FutureWarning: A value is trying to be set on a copy of a DataFrame or Series through chained assignment using an inplace method.\n",
      "The behavior will change in pandas 3.0. This inplace method will never work because the intermediate object on which we are setting values always behaves as a copy.\n",
      "\n",
      "For example, when doing 'df[col].method(value, inplace=True)', try using 'df.method({col: value}, inplace=True)' or df[col] = df[col].method(value) instead, to perform the operation inplace on the original object.\n",
      "\n",
      "\n",
      "  df['Seats'].fillna(df['Seats'].mode()[0], inplace=True)     # Mode for Seats\n"
     ]
    }
   ],
   "source": [
    "df['Mileage'].fillna(df['Mileage'].median(), inplace=True)  # Median for Mileage\n",
    "df['Engine'].fillna(df['Engine'].median(), inplace=True)    # Median for Engine\n",
    "df['Power'].fillna(df['Power'].median(), inplace=True)      # Median for Power\n",
    "df['Seats'].fillna(df['Seats'].mode()[0], inplace=True)     # Mode for Seats"
   ]
  },
  {
   "cell_type": "code",
   "execution_count": 8,
   "metadata": {},
   "outputs": [],
   "source": [
    "df.drop(columns=['New_Price'], inplace=True)"
   ]
  },
  {
   "cell_type": "code",
   "execution_count": 9,
   "metadata": {},
   "outputs": [],
   "source": [
    "clean_data_path = '/Users/spiderman/Documents/GitHub/Assignment2_PDS/clean_data/train_clean.csv'\n",
    "df.to_csv(clean_data_path, index=False)"
   ]
  },
  {
   "cell_type": "code",
   "execution_count": 10,
   "metadata": {},
   "outputs": [
    {
     "name": "stdout",
     "output_type": "stream",
     "text": [
      "Cleaned data saved to: /Users/spiderman/Documents/GitHub/Assignment2_PDS/clean_data/train_clean.csv\n"
     ]
    }
   ],
   "source": [
    "print(f\"Cleaned data saved to: {clean_data_path}\")"
   ]
  },
  {
   "cell_type": "code",
   "execution_count": 11,
   "metadata": {},
   "outputs": [],
   "source": [
    "clean_data_path = '/Users/spiderman/Documents/GitHub/Assignment2_PDS/clean_data/train_clean.csv'\n",
    "df = pd.read_csv(clean_data_path)"
   ]
  },
  {
   "cell_type": "code",
   "execution_count": 15,
   "metadata": {},
   "outputs": [],
   "source": [
    "# Ensure 'Mileage', 'Engine', and 'Power' are strings before replacing units\n",
    "df['Mileage'] = df['Mileage'].astype(str).str.replace(' kmpl', '').str.replace(' km/kg', '').astype(float)\n",
    "df['Engine'] = df['Engine'].astype(str).str.replace(' CC', '').str.replace(' cc', '').astype(float)\n",
    "df['Power'] = df['Power'].astype(str).str.replace(' bhp', '').astype(float)\n"
   ]
  },
  {
   "cell_type": "code",
   "execution_count": 16,
   "metadata": {},
   "outputs": [],
   "source": [
    "if 'New_Price' in df.columns:\n",
    "    df['New_Price'] = df['New_Price'].str.replace(' lakh', '').astype(float)"
   ]
  },
  {
   "cell_type": "code",
   "execution_count": 40,
   "metadata": {},
   "outputs": [],
   "source": [
    "clean_data_path_no_units = '/Users/spiderman/Documents/GitHub/Assignment2_PDS/results/train_clean_no_units.csv'\n",
    "df.to_csv(clean_data_path_no_units, index=False)"
   ]
  },
  {
   "cell_type": "code",
   "execution_count": 18,
   "metadata": {},
   "outputs": [
    {
     "name": "stdout",
     "output_type": "stream",
     "text": [
      "Data with units removed saved to: /Users/spiderman/Documents/GitHub/Assignment2_PDS/clean_data/train_clean_no_units.csv\n"
     ]
    }
   ],
   "source": [
    "print(f\"Data with units removed saved to: {clean_data_path_no_units}\")"
   ]
  },
  {
   "cell_type": "code",
   "execution_count": 19,
   "metadata": {},
   "outputs": [],
   "source": [
    "df = pd.get_dummies(df, columns=['Fuel_Type', 'Transmission'], drop_first=True)"
   ]
  },
  {
   "cell_type": "code",
   "execution_count": 20,
   "metadata": {},
   "outputs": [
    {
     "name": "stdout",
     "output_type": "stream",
     "text": [
      "   Unnamed: 0                              Name    Location  Year  \\\n",
      "0           1  Hyundai Creta 1.6 CRDi SX Option        Pune  2015   \n",
      "1           2                      Honda Jazz V     Chennai  2011   \n",
      "2           3                 Maruti Ertiga VDI     Chennai  2012   \n",
      "3           4   Audi A4 New 2.0 TDI Multitronic  Coimbatore  2013   \n",
      "4           6            Nissan Micra Diesel XV      Jaipur  2013   \n",
      "\n",
      "   Kilometers_Driven Owner_Type  Mileage  Engine   Power  Seats  Price  \\\n",
      "0              41000      First    19.67  1582.0  126.20    5.0  12.50   \n",
      "1              46000      First    13.00  1199.0   88.70    5.0   4.50   \n",
      "2              87000      First    20.77  1248.0   88.76    7.0   6.00   \n",
      "3              40670     Second    15.20  1968.0  140.80    5.0  17.74   \n",
      "4              86999      First    23.08  1461.0   63.10    5.0   3.50   \n",
      "\n",
      "   Fuel_Type_Electric  Fuel_Type_Petrol  Transmission_Manual  \n",
      "0               False             False                 True  \n",
      "1               False              True                 True  \n",
      "2               False             False                 True  \n",
      "3               False             False                False  \n",
      "4               False             False                 True  \n"
     ]
    }
   ],
   "source": [
    "print(df.head())"
   ]
  },
  {
   "cell_type": "code",
   "execution_count": 21,
   "metadata": {},
   "outputs": [],
   "source": [
    "from datetime import datetime"
   ]
  },
  {
   "cell_type": "code",
   "execution_count": 22,
   "metadata": {},
   "outputs": [],
   "source": [
    "current_year = datetime.now().year"
   ]
  },
  {
   "cell_type": "code",
   "execution_count": 23,
   "metadata": {},
   "outputs": [],
   "source": [
    "df['Car_Age'] = current_year - df['Year']"
   ]
  },
  {
   "cell_type": "code",
   "execution_count": 24,
   "metadata": {},
   "outputs": [
    {
     "name": "stdout",
     "output_type": "stream",
     "text": [
      "   Unnamed: 0                              Name    Location  Year  \\\n",
      "0           1  Hyundai Creta 1.6 CRDi SX Option        Pune  2015   \n",
      "1           2                      Honda Jazz V     Chennai  2011   \n",
      "2           3                 Maruti Ertiga VDI     Chennai  2012   \n",
      "3           4   Audi A4 New 2.0 TDI Multitronic  Coimbatore  2013   \n",
      "4           6            Nissan Micra Diesel XV      Jaipur  2013   \n",
      "\n",
      "   Kilometers_Driven Owner_Type  Mileage  Engine   Power  Seats  Price  \\\n",
      "0              41000      First    19.67  1582.0  126.20    5.0  12.50   \n",
      "1              46000      First    13.00  1199.0   88.70    5.0   4.50   \n",
      "2              87000      First    20.77  1248.0   88.76    7.0   6.00   \n",
      "3              40670     Second    15.20  1968.0  140.80    5.0  17.74   \n",
      "4              86999      First    23.08  1461.0   63.10    5.0   3.50   \n",
      "\n",
      "   Fuel_Type_Electric  Fuel_Type_Petrol  Transmission_Manual  Car_Age  \n",
      "0               False             False                 True        9  \n",
      "1               False              True                 True       13  \n",
      "2               False             False                 True       12  \n",
      "3               False             False                False       11  \n",
      "4               False             False                 True       11  \n"
     ]
    }
   ],
   "source": [
    "print(df.head())"
   ]
  },
  {
   "cell_type": "code",
   "execution_count": 25,
   "metadata": {},
   "outputs": [],
   "source": [
    "file_path = '/Users/spiderman/Documents/GitHub/Assignment2_PDS/clean_data/train_clean.csv'\n",
    "df = pd.read_csv(file_path)"
   ]
  },
  {
   "cell_type": "code",
   "execution_count": 26,
   "metadata": {},
   "outputs": [
    {
     "name": "stdout",
     "output_type": "stream",
     "text": [
      "Selected columns:\n",
      "                                Name  Mileage  Engine   Power  Seats\n",
      "0  Hyundai Creta 1.6 CRDi SX Option    19.67  1582.0  126.20    5.0\n",
      "1                      Honda Jazz V    13.00  1199.0   88.70    5.0\n",
      "2                 Maruti Ertiga VDI    20.77  1248.0   88.76    7.0\n",
      "3   Audi A4 New 2.0 TDI Multitronic    15.20  1968.0  140.80    5.0\n",
      "4            Nissan Micra Diesel XV    23.08  1461.0   63.10    5.0\n"
     ]
    }
   ],
   "source": [
    "selected_df = df[['Name', 'Mileage', 'Engine', 'Power', 'Seats']]\n",
    "print(\"Selected columns:\\n\", selected_df.head())"
   ]
  },
  {
   "cell_type": "code",
   "execution_count": 27,
   "metadata": {},
   "outputs": [
    {
     "name": "stdout",
     "output_type": "stream",
     "text": [
      "Filtered rows:\n",
      "     Unnamed: 0                                 Name Location  Year  \\\n",
      "4            6               Nissan Micra Diesel XV   Jaipur  2013   \n",
      "6            8  Volkswagen Vento Diesel Comfortline     Pune  2013   \n",
      "7            9       Tata Indica Vista Quadrajet LS  Chennai  2012   \n",
      "8           10                     Maruti Ciaz Zeta    Kochi  2018   \n",
      "10          12                Maruti Swift VDI BSIV   Jaipur  2015   \n",
      "\n",
      "    Kilometers_Driven Fuel_Type Transmission Owner_Type  Mileage  Engine  \\\n",
      "4               86999    Diesel       Manual      First    23.08  1461.0   \n",
      "6               64430    Diesel       Manual      First    20.54  1598.0   \n",
      "7               65932    Diesel       Manual     Second    22.30  1248.0   \n",
      "8               25692    Petrol       Manual      First    21.56  1462.0   \n",
      "10              64424    Diesel       Manual      First    25.20  1248.0   \n",
      "\n",
      "     Power  Seats  Price  \n",
      "4    63.10    5.0   3.50  \n",
      "6   103.60    5.0   5.20  \n",
      "7    74.00    5.0   1.95  \n",
      "8   103.25    5.0   9.95  \n",
      "10   74.00    5.0   5.60  \n"
     ]
    }
   ],
   "source": [
    "filtered_df = df[(df['Mileage'] > 20) & (df['Seats'] == 5)]\n",
    "print(\"Filtered rows:\\n\", filtered_df.head())"
   ]
  },
  {
   "cell_type": "code",
   "execution_count": 28,
   "metadata": {},
   "outputs": [
    {
     "name": "stdout",
     "output_type": "stream",
     "text": [
      "Renamed columns:\n",
      "    Unnamed: 0                              Name    Location  Year  \\\n",
      "0           1  Hyundai Creta 1.6 CRDi SX Option        Pune  2015   \n",
      "1           2                      Honda Jazz V     Chennai  2011   \n",
      "2           3                 Maruti Ertiga VDI     Chennai  2012   \n",
      "3           4   Audi A4 New 2.0 TDI Multitronic  Coimbatore  2013   \n",
      "4           6            Nissan Micra Diesel XV      Jaipur  2013   \n",
      "\n",
      "   Kilometers_Driven Fuel_Type Transmission Owner_Type  Mileage  Engine_CC  \\\n",
      "0              41000    Diesel       Manual      First    19.67     1582.0   \n",
      "1              46000    Petrol       Manual      First    13.00     1199.0   \n",
      "2              87000    Diesel       Manual      First    20.77     1248.0   \n",
      "3              40670    Diesel    Automatic     Second    15.20     1968.0   \n",
      "4              86999    Diesel       Manual      First    23.08     1461.0   \n",
      "\n",
      "   Horsepower  Seats  Price  \n",
      "0      126.20    5.0  12.50  \n",
      "1       88.70    5.0   4.50  \n",
      "2       88.76    7.0   6.00  \n",
      "3      140.80    5.0  17.74  \n",
      "4       63.10    5.0   3.50  \n"
     ]
    }
   ],
   "source": [
    "renamed_df = df.rename(columns={'Power': 'Horsepower', 'Engine': 'Engine_CC'})\n",
    "print(\"Renamed columns:\\n\", renamed_df.head())"
   ]
  },
  {
   "cell_type": "code",
   "execution_count": 29,
   "metadata": {},
   "outputs": [
    {
     "name": "stdout",
     "output_type": "stream",
     "text": [
      "Mutated data with Power_to_Weight_Ratio:\n",
      "                                Name   Power  Engine  Power_to_Weight_Ratio\n",
      "0  Hyundai Creta 1.6 CRDi SX Option  126.20  1582.0               0.079772\n",
      "1                      Honda Jazz V   88.70  1199.0               0.073978\n",
      "2                 Maruti Ertiga VDI   88.76  1248.0               0.071122\n",
      "3   Audi A4 New 2.0 TDI Multitronic  140.80  1968.0               0.071545\n",
      "4            Nissan Micra Diesel XV   63.10  1461.0               0.043190\n"
     ]
    }
   ],
   "source": [
    "df['Power_to_Weight_Ratio'] = df['Power'] / df['Engine']\n",
    "print(\"Mutated data with Power_to_Weight_Ratio:\\n\", df[['Name', 'Power', 'Engine', 'Power_to_Weight_Ratio']].head())"
   ]
  },
  {
   "cell_type": "code",
   "execution_count": 30,
   "metadata": {},
   "outputs": [
    {
     "name": "stdout",
     "output_type": "stream",
     "text": [
      "Data sorted by Mileage (descending):\n",
      "       Unnamed: 0                   Name    Location  Year  Kilometers_Driven  \\\n",
      "864          892       Maruti Swift ZDI       Delhi  2012              52000   \n",
      "2361        2438       Maruti Dzire VDI   Hyderabad  2011             110000   \n",
      "2670        2759   Maruti Swift AMT VDI       Delhi  2018              11500   \n",
      "1208        1247       Maruti Swift VDI       Kochi  2017              34613   \n",
      "4198        4328  Maruti Swift DDiS VDI  Coimbatore  2019              41075   \n",
      "\n",
      "     Fuel_Type Transmission Owner_Type  Mileage  Engine  Power  Seats  Price  \\\n",
      "864     Diesel       Manual      First     28.4  1248.0  74.00    5.0   3.55   \n",
      "2361    Diesel       Manual      First     28.4  1248.0  73.75    5.0   4.00   \n",
      "2670    Diesel    Automatic      First     28.4  1248.0  74.00    5.0   7.50   \n",
      "1208    Diesel       Manual      First     28.4  1248.0  74.00    5.0   6.24   \n",
      "4198    Diesel       Manual      First     28.4  1248.0  74.00    5.0   8.40   \n",
      "\n",
      "      Power_to_Weight_Ratio  \n",
      "864                0.059295  \n",
      "2361               0.059095  \n",
      "2670               0.059295  \n",
      "1208               0.059295  \n",
      "4198               0.059295  \n"
     ]
    }
   ],
   "source": [
    "arranged_df = df.sort_values(by='Mileage', ascending=False)\n",
    "print(\"Data sorted by Mileage (descending):\\n\", arranged_df.head())"
   ]
  },
  {
   "cell_type": "code",
   "execution_count": 31,
   "metadata": {},
   "outputs": [
    {
     "name": "stdout",
     "output_type": "stream",
     "text": [
      "Grouped summary by Seats:\n",
      "    Seats  Avg_Mileage   Avg_Power\n",
      "0    2.0    12.487692  345.010769\n",
      "1    4.0    17.316667  169.291828\n",
      "2    5.0    18.820620  107.914078\n",
      "3    6.0    15.858621  109.295862\n",
      "4    7.0    14.652620  145.877784\n",
      "5    8.0    13.234436  106.759474\n",
      "6    9.0    13.526667   97.233333\n",
      "7   10.0    13.767500   78.275000\n"
     ]
    }
   ],
   "source": [
    "summary_df = df.groupby('Seats').agg(\n",
    "    Avg_Mileage=('Mileage', 'mean'),\n",
    "    Avg_Power=('Power', 'mean')\n",
    ").reset_index()\n",
    "print(\"Grouped summary by Seats:\\n\", summary_df)"
   ]
  },
  {
   "cell_type": "code",
   "execution_count": 32,
   "metadata": {},
   "outputs": [],
   "source": [
    "results_path = \"/Users/spiderman/Documents/GitHub/Assignment2_PDS/results/\""
   ]
  },
  {
   "cell_type": "code",
   "execution_count": 33,
   "metadata": {},
   "outputs": [
    {
     "name": "stdout",
     "output_type": "stream",
     "text": [
      "Saved selected columns to 'selected_columns.csv'\n"
     ]
    }
   ],
   "source": [
    "selected_df = df[['Name', 'Mileage', 'Engine', 'Power', 'Seats']]\n",
    "selected_df.to_csv(results_path + \"selected_columns.csv\", index=False)\n",
    "print(\"Saved selected columns to 'selected_columns.csv'\")"
   ]
  },
  {
   "cell_type": "code",
   "execution_count": 34,
   "metadata": {},
   "outputs": [
    {
     "name": "stdout",
     "output_type": "stream",
     "text": [
      "Saved filtered rows to 'filtered_rows.csv'\n"
     ]
    }
   ],
   "source": [
    "filtered_df = df[(df['Mileage'] > 20) & (df['Seats'] == 5)]\n",
    "filtered_df.to_csv(results_path + \"filtered_rows.csv\", index=False)\n",
    "print(\"Saved filtered rows to 'filtered_rows.csv'\")"
   ]
  },
  {
   "cell_type": "code",
   "execution_count": 35,
   "metadata": {},
   "outputs": [
    {
     "name": "stdout",
     "output_type": "stream",
     "text": [
      "Saved renamed columns to 'renamed_columns.csv'\n"
     ]
    }
   ],
   "source": [
    "renamed_df = df.rename(columns={'Power': 'Horsepower', 'Engine': 'Engine_CC'})\n",
    "renamed_df.to_csv(results_path + \"renamed_columns.csv\", index=False)\n",
    "print(\"Saved renamed columns to 'renamed_columns.csv'\")"
   ]
  },
  {
   "cell_type": "code",
   "execution_count": 36,
   "metadata": {},
   "outputs": [
    {
     "name": "stdout",
     "output_type": "stream",
     "text": [
      "Saved mutated data with Power_to_Weight_Ratio to 'mutated_data.csv'\n"
     ]
    }
   ],
   "source": [
    "df['Power_to_Weight_Ratio'] = df['Power'] / df['Engine']\n",
    "df[['Name', 'Power', 'Engine', 'Power_to_Weight_Ratio']].to_csv(results_path + \"mutated_data.csv\", index=False)\n",
    "print(\"Saved mutated data with Power_to_Weight_Ratio to 'mutated_data.csv'\")"
   ]
  },
  {
   "cell_type": "code",
   "execution_count": 37,
   "metadata": {},
   "outputs": [
    {
     "name": "stdout",
     "output_type": "stream",
     "text": [
      "Saved data sorted by Mileage to 'sorted_by_mileage.csv'\n"
     ]
    }
   ],
   "source": [
    "arranged_df = df.sort_values(by='Mileage', ascending=False)\n",
    "arranged_df.to_csv(results_path + \"sorted_by_mileage.csv\", index=False)\n",
    "print(\"Saved data sorted by Mileage to 'sorted_by_mileage.csv'\")"
   ]
  },
  {
   "cell_type": "code",
   "execution_count": 38,
   "metadata": {},
   "outputs": [
    {
     "name": "stdout",
     "output_type": "stream",
     "text": [
      "Saved grouped summary by Seats to 'grouped_summary.csv'\n"
     ]
    }
   ],
   "source": [
    "summary_df = df.groupby('Seats').agg(\n",
    "    Avg_Mileage=('Mileage', 'mean'),\n",
    "    Avg_Power=('Power', 'mean')\n",
    ").reset_index()\n",
    "summary_df.to_csv(results_path + \"grouped_summary.csv\", index=False)\n",
    "print(\"Saved grouped summary by Seats to 'grouped_summary.csv'\")"
   ]
  }
 ],
 "metadata": {
  "kernelspec": {
   "display_name": "Python 3",
   "language": "python",
   "name": "python3"
  },
  "language_info": {
   "codemirror_mode": {
    "name": "ipython",
    "version": 3
   },
   "file_extension": ".py",
   "mimetype": "text/x-python",
   "name": "python",
   "nbconvert_exporter": "python",
   "pygments_lexer": "ipython3",
   "version": "3.9.6"
  }
 },
 "nbformat": 4,
 "nbformat_minor": 2
}
