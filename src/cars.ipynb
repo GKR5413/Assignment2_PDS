{
 "cells": [
  {
   "cell_type": "code",
   "execution_count": 3,
   "metadata": {},
   "outputs": [],
   "source": [
    "import pandas as pd"
   ]
  },
  {
   "cell_type": "code",
   "execution_count": 4,
   "metadata": {},
   "outputs": [],
   "source": [
    "file_path = '/Users/spiderman/Documents/GitHub/Assignment2_PDS/raw_data/train.csv'\n",
    "df = pd.read_csv(file_path)"
   ]
  },
  {
   "cell_type": "code",
   "execution_count": 5,
   "metadata": {},
   "outputs": [
    {
     "name": "stdout",
     "output_type": "stream",
     "text": [
      "Missing values in each column:\n",
      " Unnamed: 0              0\n",
      "Name                    0\n",
      "Location                0\n",
      "Year                    0\n",
      "Kilometers_Driven       0\n",
      "Fuel_Type               0\n",
      "Transmission            0\n",
      "Owner_Type              0\n",
      "Mileage                 2\n",
      "Engine                 36\n",
      "Power                  36\n",
      "Seats                  38\n",
      "New_Price            5032\n",
      "Price                   0\n",
      "dtype: int64\n"
     ]
    }
   ],
   "source": [
    "print(\"Missing values in each column:\\n\", df.isnull().sum())"
   ]
  },
  {
   "cell_type": "code",
   "execution_count": 6,
   "metadata": {},
   "outputs": [],
   "source": [
    "# Remove non-numeric characters from columns with units and convert them to numeric\n",
    "df['Mileage'] = df['Mileage'].str.replace(' kmpl', '').str.replace(' km/kg', '').astype(float)\n",
    "df['Engine'] = df['Engine'].str.replace(' CC', '').str.replace(' cc', '').astype(float)\n",
    "df['Power'] = df['Power'].str.replace(' bhp', '').astype(float)"
   ]
  },
  {
   "cell_type": "code",
   "execution_count": 7,
   "metadata": {},
   "outputs": [
    {
     "name": "stderr",
     "output_type": "stream",
     "text": [
      "/var/folders/vk/8ql96cx95jn9rn3rfbthkb0c0000gn/T/ipykernel_64855/1553386043.py:1: FutureWarning: A value is trying to be set on a copy of a DataFrame or Series through chained assignment using an inplace method.\n",
      "The behavior will change in pandas 3.0. This inplace method will never work because the intermediate object on which we are setting values always behaves as a copy.\n",
      "\n",
      "For example, when doing 'df[col].method(value, inplace=True)', try using 'df.method({col: value}, inplace=True)' or df[col] = df[col].method(value) instead, to perform the operation inplace on the original object.\n",
      "\n",
      "\n",
      "  df['Mileage'].fillna(df['Mileage'].median(), inplace=True)  # Median for Mileage\n",
      "/var/folders/vk/8ql96cx95jn9rn3rfbthkb0c0000gn/T/ipykernel_64855/1553386043.py:2: FutureWarning: A value is trying to be set on a copy of a DataFrame or Series through chained assignment using an inplace method.\n",
      "The behavior will change in pandas 3.0. This inplace method will never work because the intermediate object on which we are setting values always behaves as a copy.\n",
      "\n",
      "For example, when doing 'df[col].method(value, inplace=True)', try using 'df.method({col: value}, inplace=True)' or df[col] = df[col].method(value) instead, to perform the operation inplace on the original object.\n",
      "\n",
      "\n",
      "  df['Engine'].fillna(df['Engine'].median(), inplace=True)    # Median for Engine\n",
      "/var/folders/vk/8ql96cx95jn9rn3rfbthkb0c0000gn/T/ipykernel_64855/1553386043.py:3: FutureWarning: A value is trying to be set on a copy of a DataFrame or Series through chained assignment using an inplace method.\n",
      "The behavior will change in pandas 3.0. This inplace method will never work because the intermediate object on which we are setting values always behaves as a copy.\n",
      "\n",
      "For example, when doing 'df[col].method(value, inplace=True)', try using 'df.method({col: value}, inplace=True)' or df[col] = df[col].method(value) instead, to perform the operation inplace on the original object.\n",
      "\n",
      "\n",
      "  df['Power'].fillna(df['Power'].median(), inplace=True)      # Median for Power\n",
      "/var/folders/vk/8ql96cx95jn9rn3rfbthkb0c0000gn/T/ipykernel_64855/1553386043.py:4: FutureWarning: A value is trying to be set on a copy of a DataFrame or Series through chained assignment using an inplace method.\n",
      "The behavior will change in pandas 3.0. This inplace method will never work because the intermediate object on which we are setting values always behaves as a copy.\n",
      "\n",
      "For example, when doing 'df[col].method(value, inplace=True)', try using 'df.method({col: value}, inplace=True)' or df[col] = df[col].method(value) instead, to perform the operation inplace on the original object.\n",
      "\n",
      "\n",
      "  df['Seats'].fillna(df['Seats'].mode()[0], inplace=True)     # Mode for Seats\n"
     ]
    }
   ],
   "source": [
    "df['Mileage'].fillna(df['Mileage'].median(), inplace=True)  # Median for Mileage\n",
    "df['Engine'].fillna(df['Engine'].median(), inplace=True)    # Median for Engine\n",
    "df['Power'].fillna(df['Power'].median(), inplace=True)      # Median for Power\n",
    "df['Seats'].fillna(df['Seats'].mode()[0], inplace=True)     # Mode for Seats"
   ]
  },
  {
   "cell_type": "code",
   "execution_count": 8,
   "metadata": {},
   "outputs": [],
   "source": [
    "df.drop(columns=['New_Price'], inplace=True)"
   ]
  },
  {
   "cell_type": "code",
   "execution_count": 9,
   "metadata": {},
   "outputs": [],
   "source": [
    "clean_data_path = '/Users/spiderman/Documents/GitHub/Assignment2_PDS/clean_data/train_clean.csv'\n",
    "df.to_csv(clean_data_path, index=False)"
   ]
  },
  {
   "cell_type": "code",
   "execution_count": 10,
   "metadata": {},
   "outputs": [
    {
     "name": "stdout",
     "output_type": "stream",
     "text": [
      "Cleaned data saved to: /Users/spiderman/Documents/GitHub/Assignment2_PDS/clean_data/train_clean.csv\n"
     ]
    }
   ],
   "source": [
    "print(f\"Cleaned data saved to: {clean_data_path}\")"
   ]
  },
  {
   "cell_type": "code",
   "execution_count": 11,
   "metadata": {},
   "outputs": [],
   "source": [
    "clean_data_path = '/Users/spiderman/Documents/GitHub/Assignment2_PDS/clean_data/train_clean.csv'\n",
    "df = pd.read_csv(clean_data_path)"
   ]
  },
  {
   "cell_type": "code",
   "execution_count": 15,
   "metadata": {},
   "outputs": [],
   "source": [
    "# Ensure 'Mileage', 'Engine', and 'Power' are strings before replacing units\n",
    "df['Mileage'] = df['Mileage'].astype(str).str.replace(' kmpl', '').str.replace(' km/kg', '').astype(float)\n",
    "df['Engine'] = df['Engine'].astype(str).str.replace(' CC', '').str.replace(' cc', '').astype(float)\n",
    "df['Power'] = df['Power'].astype(str).str.replace(' bhp', '').astype(float)\n"
   ]
  },
  {
   "cell_type": "code",
   "execution_count": 16,
   "metadata": {},
   "outputs": [],
   "source": [
    "if 'New_Price' in df.columns:\n",
    "    df['New_Price'] = df['New_Price'].str.replace(' lakh', '').astype(float)"
   ]
  },
  {
   "cell_type": "code",
   "execution_count": 17,
   "metadata": {},
   "outputs": [],
   "source": [
    "clean_data_path_no_units = '/Users/spiderman/Documents/GitHub/Assignment2_PDS/clean_data/train_clean_no_units.csv'\n",
    "df.to_csv(clean_data_path_no_units, index=False)"
   ]
  },
  {
   "cell_type": "code",
   "execution_count": 18,
   "metadata": {},
   "outputs": [
    {
     "name": "stdout",
     "output_type": "stream",
     "text": [
      "Data with units removed saved to: /Users/spiderman/Documents/GitHub/Assignment2_PDS/clean_data/train_clean_no_units.csv\n"
     ]
    }
   ],
   "source": [
    "print(f\"Data with units removed saved to: {clean_data_path_no_units}\")"
   ]
  },
  {
   "cell_type": "code",
   "execution_count": 19,
   "metadata": {},
   "outputs": [],
   "source": [
    "df = pd.get_dummies(df, columns=['Fuel_Type', 'Transmission'], drop_first=True)"
   ]
  },
  {
   "cell_type": "code",
   "execution_count": 20,
   "metadata": {},
   "outputs": [
    {
     "name": "stdout",
     "output_type": "stream",
     "text": [
      "   Unnamed: 0                              Name    Location  Year  \\\n",
      "0           1  Hyundai Creta 1.6 CRDi SX Option        Pune  2015   \n",
      "1           2                      Honda Jazz V     Chennai  2011   \n",
      "2           3                 Maruti Ertiga VDI     Chennai  2012   \n",
      "3           4   Audi A4 New 2.0 TDI Multitronic  Coimbatore  2013   \n",
      "4           6            Nissan Micra Diesel XV      Jaipur  2013   \n",
      "\n",
      "   Kilometers_Driven Owner_Type  Mileage  Engine   Power  Seats  Price  \\\n",
      "0              41000      First    19.67  1582.0  126.20    5.0  12.50   \n",
      "1              46000      First    13.00  1199.0   88.70    5.0   4.50   \n",
      "2              87000      First    20.77  1248.0   88.76    7.0   6.00   \n",
      "3              40670     Second    15.20  1968.0  140.80    5.0  17.74   \n",
      "4              86999      First    23.08  1461.0   63.10    5.0   3.50   \n",
      "\n",
      "   Fuel_Type_Electric  Fuel_Type_Petrol  Transmission_Manual  \n",
      "0               False             False                 True  \n",
      "1               False              True                 True  \n",
      "2               False             False                 True  \n",
      "3               False             False                False  \n",
      "4               False             False                 True  \n"
     ]
    }
   ],
   "source": [
    "print(df.head())"
   ]
  },
  {
   "cell_type": "code",
   "execution_count": 21,
   "metadata": {},
   "outputs": [],
   "source": [
    "from datetime import datetime"
   ]
  },
  {
   "cell_type": "code",
   "execution_count": 22,
   "metadata": {},
   "outputs": [],
   "source": [
    "current_year = datetime.now().year"
   ]
  },
  {
   "cell_type": "code",
   "execution_count": 23,
   "metadata": {},
   "outputs": [],
   "source": [
    "df['Car_Age'] = current_year - df['Year']"
   ]
  },
  {
   "cell_type": "code",
   "execution_count": 24,
   "metadata": {},
   "outputs": [
    {
     "name": "stdout",
     "output_type": "stream",
     "text": [
      "   Unnamed: 0                              Name    Location  Year  \\\n",
      "0           1  Hyundai Creta 1.6 CRDi SX Option        Pune  2015   \n",
      "1           2                      Honda Jazz V     Chennai  2011   \n",
      "2           3                 Maruti Ertiga VDI     Chennai  2012   \n",
      "3           4   Audi A4 New 2.0 TDI Multitronic  Coimbatore  2013   \n",
      "4           6            Nissan Micra Diesel XV      Jaipur  2013   \n",
      "\n",
      "   Kilometers_Driven Owner_Type  Mileage  Engine   Power  Seats  Price  \\\n",
      "0              41000      First    19.67  1582.0  126.20    5.0  12.50   \n",
      "1              46000      First    13.00  1199.0   88.70    5.0   4.50   \n",
      "2              87000      First    20.77  1248.0   88.76    7.0   6.00   \n",
      "3              40670     Second    15.20  1968.0  140.80    5.0  17.74   \n",
      "4              86999      First    23.08  1461.0   63.10    5.0   3.50   \n",
      "\n",
      "   Fuel_Type_Electric  Fuel_Type_Petrol  Transmission_Manual  Car_Age  \n",
      "0               False             False                 True        9  \n",
      "1               False              True                 True       13  \n",
      "2               False             False                 True       12  \n",
      "3               False             False                False       11  \n",
      "4               False             False                 True       11  \n"
     ]
    }
   ],
   "source": [
    "print(df.head())"
   ]
  },
  {
   "cell_type": "code",
   "execution_count": null,
   "metadata": {},
   "outputs": [],
   "source": []
  }
 ],
 "metadata": {
  "kernelspec": {
   "display_name": "Python 3",
   "language": "python",
   "name": "python3"
  },
  "language_info": {
   "codemirror_mode": {
    "name": "ipython",
    "version": 3
   },
   "file_extension": ".py",
   "mimetype": "text/x-python",
   "name": "python",
   "nbconvert_exporter": "python",
   "pygments_lexer": "ipython3",
   "version": "3.9.6"
  }
 },
 "nbformat": 4,
 "nbformat_minor": 2
}
